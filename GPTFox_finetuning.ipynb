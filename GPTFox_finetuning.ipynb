{
  "nbformat": 4,
  "nbformat_minor": 0,
  "metadata": {
    "accelerator": "GPU",
    "colab": {
      "name": "GPTFox_finetuning",
      "provenance": [],
      "collapsed_sections": [
        "ThG6jwL7qET8",
        "ZyQh0jlTqR6-",
        "PGEiQ1mhOyNv",
        "5h8fpVHi9uq4",
        "hx9GYpsA9wNu"
      ]
    },
    "kernelspec": {
      "display_name": "Python 3",
      "name": "python3"
    },
    "widgets": {
      "application/vnd.jupyter.widget-state+json": {
        "09a60c85d1094509a9963b1ac6c93a01": {
          "model_module": "@jupyter-widgets/controls",
          "model_name": "HBoxModel",
          "state": {
            "_view_name": "HBoxView",
            "_dom_classes": [],
            "_model_name": "HBoxModel",
            "_view_module": "@jupyter-widgets/controls",
            "_model_module_version": "1.5.0",
            "_view_count": null,
            "_view_module_version": "1.5.0",
            "box_style": "",
            "layout": "IPY_MODEL_873478083eb84baaa38c96910eb3ee1d",
            "_model_module": "@jupyter-widgets/controls",
            "children": [
              "IPY_MODEL_962e5229928b43c0bf7437c6e54df588",
              "IPY_MODEL_967aa286cfad4dd4a6f5649ac9c6975d"
            ]
          }
        },
        "873478083eb84baaa38c96910eb3ee1d": {
          "model_module": "@jupyter-widgets/base",
          "model_name": "LayoutModel",
          "state": {
            "_view_name": "LayoutView",
            "grid_template_rows": null,
            "right": null,
            "justify_content": null,
            "_view_module": "@jupyter-widgets/base",
            "overflow": null,
            "_model_module_version": "1.2.0",
            "_view_count": null,
            "flex_flow": null,
            "width": null,
            "min_width": null,
            "border": null,
            "align_items": null,
            "bottom": null,
            "_model_module": "@jupyter-widgets/base",
            "top": null,
            "grid_column": null,
            "overflow_y": null,
            "overflow_x": null,
            "grid_auto_flow": null,
            "grid_area": null,
            "grid_template_columns": null,
            "flex": null,
            "_model_name": "LayoutModel",
            "justify_items": null,
            "grid_row": null,
            "max_height": null,
            "align_content": null,
            "visibility": null,
            "align_self": null,
            "height": null,
            "min_height": null,
            "padding": null,
            "grid_auto_rows": null,
            "grid_gap": null,
            "max_width": null,
            "order": null,
            "_view_module_version": "1.2.0",
            "grid_template_areas": null,
            "object_position": null,
            "object_fit": null,
            "grid_auto_columns": null,
            "margin": null,
            "display": null,
            "left": null
          }
        },
        "962e5229928b43c0bf7437c6e54df588": {
          "model_module": "@jupyter-widgets/controls",
          "model_name": "FloatProgressModel",
          "state": {
            "_view_name": "ProgressView",
            "style": "IPY_MODEL_24860723859240b0a9641613399081e0",
            "_dom_classes": [],
            "description": "Downloading: 100%",
            "_model_name": "FloatProgressModel",
            "bar_style": "success",
            "max": 1069,
            "_view_module": "@jupyter-widgets/controls",
            "_model_module_version": "1.5.0",
            "value": 1069,
            "_view_count": null,
            "_view_module_version": "1.5.0",
            "orientation": "horizontal",
            "min": 0,
            "description_tooltip": null,
            "_model_module": "@jupyter-widgets/controls",
            "layout": "IPY_MODEL_091e34ef6b064803b8898178741ea8fa"
          }
        },
        "967aa286cfad4dd4a6f5649ac9c6975d": {
          "model_module": "@jupyter-widgets/controls",
          "model_name": "HTMLModel",
          "state": {
            "_view_name": "HTMLView",
            "style": "IPY_MODEL_b32b4e492e91404eb1dd9cf42963efe9",
            "_dom_classes": [],
            "description": "",
            "_model_name": "HTMLModel",
            "placeholder": "​",
            "_view_module": "@jupyter-widgets/controls",
            "_model_module_version": "1.5.0",
            "value": " 1.07k/1.07k [00:00&lt;00:00, 2.40kB/s]",
            "_view_count": null,
            "_view_module_version": "1.5.0",
            "description_tooltip": null,
            "_model_module": "@jupyter-widgets/controls",
            "layout": "IPY_MODEL_44b07dcbb4ff444f974ecf5e236afe48"
          }
        },
        "24860723859240b0a9641613399081e0": {
          "model_module": "@jupyter-widgets/controls",
          "model_name": "ProgressStyleModel",
          "state": {
            "_view_name": "StyleView",
            "_model_name": "ProgressStyleModel",
            "description_width": "initial",
            "_view_module": "@jupyter-widgets/base",
            "_model_module_version": "1.5.0",
            "_view_count": null,
            "_view_module_version": "1.2.0",
            "bar_color": null,
            "_model_module": "@jupyter-widgets/controls"
          }
        },
        "091e34ef6b064803b8898178741ea8fa": {
          "model_module": "@jupyter-widgets/base",
          "model_name": "LayoutModel",
          "state": {
            "_view_name": "LayoutView",
            "grid_template_rows": null,
            "right": null,
            "justify_content": null,
            "_view_module": "@jupyter-widgets/base",
            "overflow": null,
            "_model_module_version": "1.2.0",
            "_view_count": null,
            "flex_flow": null,
            "width": null,
            "min_width": null,
            "border": null,
            "align_items": null,
            "bottom": null,
            "_model_module": "@jupyter-widgets/base",
            "top": null,
            "grid_column": null,
            "overflow_y": null,
            "overflow_x": null,
            "grid_auto_flow": null,
            "grid_area": null,
            "grid_template_columns": null,
            "flex": null,
            "_model_name": "LayoutModel",
            "justify_items": null,
            "grid_row": null,
            "max_height": null,
            "align_content": null,
            "visibility": null,
            "align_self": null,
            "height": null,
            "min_height": null,
            "padding": null,
            "grid_auto_rows": null,
            "grid_gap": null,
            "max_width": null,
            "order": null,
            "_view_module_version": "1.2.0",
            "grid_template_areas": null,
            "object_position": null,
            "object_fit": null,
            "grid_auto_columns": null,
            "margin": null,
            "display": null,
            "left": null
          }
        },
        "b32b4e492e91404eb1dd9cf42963efe9": {
          "model_module": "@jupyter-widgets/controls",
          "model_name": "DescriptionStyleModel",
          "state": {
            "_view_name": "StyleView",
            "_model_name": "DescriptionStyleModel",
            "description_width": "",
            "_view_module": "@jupyter-widgets/base",
            "_model_module_version": "1.5.0",
            "_view_count": null,
            "_view_module_version": "1.2.0",
            "_model_module": "@jupyter-widgets/controls"
          }
        },
        "44b07dcbb4ff444f974ecf5e236afe48": {
          "model_module": "@jupyter-widgets/base",
          "model_name": "LayoutModel",
          "state": {
            "_view_name": "LayoutView",
            "grid_template_rows": null,
            "right": null,
            "justify_content": null,
            "_view_module": "@jupyter-widgets/base",
            "overflow": null,
            "_model_module_version": "1.2.0",
            "_view_count": null,
            "flex_flow": null,
            "width": null,
            "min_width": null,
            "border": null,
            "align_items": null,
            "bottom": null,
            "_model_module": "@jupyter-widgets/base",
            "top": null,
            "grid_column": null,
            "overflow_y": null,
            "overflow_x": null,
            "grid_auto_flow": null,
            "grid_area": null,
            "grid_template_columns": null,
            "flex": null,
            "_model_name": "LayoutModel",
            "justify_items": null,
            "grid_row": null,
            "max_height": null,
            "align_content": null,
            "visibility": null,
            "align_self": null,
            "height": null,
            "min_height": null,
            "padding": null,
            "grid_auto_rows": null,
            "grid_gap": null,
            "max_width": null,
            "order": null,
            "_view_module_version": "1.2.0",
            "grid_template_areas": null,
            "object_position": null,
            "object_fit": null,
            "grid_auto_columns": null,
            "margin": null,
            "display": null,
            "left": null
          }
        },
        "cabfea4c2b3c4d8489071c0766c45593": {
          "model_module": "@jupyter-widgets/controls",
          "model_name": "HBoxModel",
          "state": {
            "_view_name": "HBoxView",
            "_dom_classes": [],
            "_model_name": "HBoxModel",
            "_view_module": "@jupyter-widgets/controls",
            "_model_module_version": "1.5.0",
            "_view_count": null,
            "_view_module_version": "1.5.0",
            "box_style": "",
            "layout": "IPY_MODEL_39970806da2d49e2a192c11bd3b87a16",
            "_model_module": "@jupyter-widgets/controls",
            "children": [
              "IPY_MODEL_2a1ca98863a34b55aa630c5284f49a5e",
              "IPY_MODEL_118f2ef9acfc4a43a29b277b559a73b4"
            ]
          }
        },
        "39970806da2d49e2a192c11bd3b87a16": {
          "model_module": "@jupyter-widgets/base",
          "model_name": "LayoutModel",
          "state": {
            "_view_name": "LayoutView",
            "grid_template_rows": null,
            "right": null,
            "justify_content": null,
            "_view_module": "@jupyter-widgets/base",
            "overflow": null,
            "_model_module_version": "1.2.0",
            "_view_count": null,
            "flex_flow": null,
            "width": null,
            "min_width": null,
            "border": null,
            "align_items": null,
            "bottom": null,
            "_model_module": "@jupyter-widgets/base",
            "top": null,
            "grid_column": null,
            "overflow_y": null,
            "overflow_x": null,
            "grid_auto_flow": null,
            "grid_area": null,
            "grid_template_columns": null,
            "flex": null,
            "_model_name": "LayoutModel",
            "justify_items": null,
            "grid_row": null,
            "max_height": null,
            "align_content": null,
            "visibility": null,
            "align_self": null,
            "height": null,
            "min_height": null,
            "padding": null,
            "grid_auto_rows": null,
            "grid_gap": null,
            "max_width": null,
            "order": null,
            "_view_module_version": "1.2.0",
            "grid_template_areas": null,
            "object_position": null,
            "object_fit": null,
            "grid_auto_columns": null,
            "margin": null,
            "display": null,
            "left": null
          }
        },
        "2a1ca98863a34b55aa630c5284f49a5e": {
          "model_module": "@jupyter-widgets/controls",
          "model_name": "FloatProgressModel",
          "state": {
            "_view_name": "ProgressView",
            "style": "IPY_MODEL_9db03233a27f4e88be834c41712ff05d",
            "_dom_classes": [],
            "description": "Downloading: 100%",
            "_model_name": "FloatProgressModel",
            "bar_style": "success",
            "max": 546781,
            "_view_module": "@jupyter-widgets/controls",
            "_model_module_version": "1.5.0",
            "value": 546781,
            "_view_count": null,
            "_view_module_version": "1.5.0",
            "orientation": "horizontal",
            "min": 0,
            "description_tooltip": null,
            "_model_module": "@jupyter-widgets/controls",
            "layout": "IPY_MODEL_3d63f0389d2a4633b6c7670cc28f412a"
          }
        },
        "118f2ef9acfc4a43a29b277b559a73b4": {
          "model_module": "@jupyter-widgets/controls",
          "model_name": "HTMLModel",
          "state": {
            "_view_name": "HTMLView",
            "style": "IPY_MODEL_22c827986b4845c7ac29401fa38acbfd",
            "_dom_classes": [],
            "description": "",
            "_model_name": "HTMLModel",
            "placeholder": "​",
            "_view_module": "@jupyter-widgets/controls",
            "_model_module_version": "1.5.0",
            "value": " 547k/547k [00:00&lt;00:00, 5.17MB/s]",
            "_view_count": null,
            "_view_module_version": "1.5.0",
            "description_tooltip": null,
            "_model_module": "@jupyter-widgets/controls",
            "layout": "IPY_MODEL_204deef6aef94681a7254ec3857f82c1"
          }
        },
        "9db03233a27f4e88be834c41712ff05d": {
          "model_module": "@jupyter-widgets/controls",
          "model_name": "ProgressStyleModel",
          "state": {
            "_view_name": "StyleView",
            "_model_name": "ProgressStyleModel",
            "description_width": "initial",
            "_view_module": "@jupyter-widgets/base",
            "_model_module_version": "1.5.0",
            "_view_count": null,
            "_view_module_version": "1.2.0",
            "bar_color": null,
            "_model_module": "@jupyter-widgets/controls"
          }
        },
        "3d63f0389d2a4633b6c7670cc28f412a": {
          "model_module": "@jupyter-widgets/base",
          "model_name": "LayoutModel",
          "state": {
            "_view_name": "LayoutView",
            "grid_template_rows": null,
            "right": null,
            "justify_content": null,
            "_view_module": "@jupyter-widgets/base",
            "overflow": null,
            "_model_module_version": "1.2.0",
            "_view_count": null,
            "flex_flow": null,
            "width": null,
            "min_width": null,
            "border": null,
            "align_items": null,
            "bottom": null,
            "_model_module": "@jupyter-widgets/base",
            "top": null,
            "grid_column": null,
            "overflow_y": null,
            "overflow_x": null,
            "grid_auto_flow": null,
            "grid_area": null,
            "grid_template_columns": null,
            "flex": null,
            "_model_name": "LayoutModel",
            "justify_items": null,
            "grid_row": null,
            "max_height": null,
            "align_content": null,
            "visibility": null,
            "align_self": null,
            "height": null,
            "min_height": null,
            "padding": null,
            "grid_auto_rows": null,
            "grid_gap": null,
            "max_width": null,
            "order": null,
            "_view_module_version": "1.2.0",
            "grid_template_areas": null,
            "object_position": null,
            "object_fit": null,
            "grid_auto_columns": null,
            "margin": null,
            "display": null,
            "left": null
          }
        },
        "22c827986b4845c7ac29401fa38acbfd": {
          "model_module": "@jupyter-widgets/controls",
          "model_name": "DescriptionStyleModel",
          "state": {
            "_view_name": "StyleView",
            "_model_name": "DescriptionStyleModel",
            "description_width": "",
            "_view_module": "@jupyter-widgets/base",
            "_model_module_version": "1.5.0",
            "_view_count": null,
            "_view_module_version": "1.2.0",
            "_model_module": "@jupyter-widgets/controls"
          }
        },
        "204deef6aef94681a7254ec3857f82c1": {
          "model_module": "@jupyter-widgets/base",
          "model_name": "LayoutModel",
          "state": {
            "_view_name": "LayoutView",
            "grid_template_rows": null,
            "right": null,
            "justify_content": null,
            "_view_module": "@jupyter-widgets/base",
            "overflow": null,
            "_model_module_version": "1.2.0",
            "_view_count": null,
            "flex_flow": null,
            "width": null,
            "min_width": null,
            "border": null,
            "align_items": null,
            "bottom": null,
            "_model_module": "@jupyter-widgets/base",
            "top": null,
            "grid_column": null,
            "overflow_y": null,
            "overflow_x": null,
            "grid_auto_flow": null,
            "grid_area": null,
            "grid_template_columns": null,
            "flex": null,
            "_model_name": "LayoutModel",
            "justify_items": null,
            "grid_row": null,
            "max_height": null,
            "align_content": null,
            "visibility": null,
            "align_self": null,
            "height": null,
            "min_height": null,
            "padding": null,
            "grid_auto_rows": null,
            "grid_gap": null,
            "max_width": null,
            "order": null,
            "_view_module_version": "1.2.0",
            "grid_template_areas": null,
            "object_position": null,
            "object_fit": null,
            "grid_auto_columns": null,
            "margin": null,
            "display": null,
            "left": null
          }
        },
        "8c99ef8062cd4114968e6c25932b0cae": {
          "model_module": "@jupyter-widgets/controls",
          "model_name": "HBoxModel",
          "state": {
            "_view_name": "HBoxView",
            "_dom_classes": [],
            "_model_name": "HBoxModel",
            "_view_module": "@jupyter-widgets/controls",
            "_model_module_version": "1.5.0",
            "_view_count": null,
            "_view_module_version": "1.5.0",
            "box_style": "",
            "layout": "IPY_MODEL_138411b3b4884bb0937f30a27244c327",
            "_model_module": "@jupyter-widgets/controls",
            "children": [
              "IPY_MODEL_1185fdf84cf04a448438a578286200ac",
              "IPY_MODEL_2ffb92cdb5eb481ca2bf7b8c220ad877"
            ]
          }
        },
        "138411b3b4884bb0937f30a27244c327": {
          "model_module": "@jupyter-widgets/base",
          "model_name": "LayoutModel",
          "state": {
            "_view_name": "LayoutView",
            "grid_template_rows": null,
            "right": null,
            "justify_content": null,
            "_view_module": "@jupyter-widgets/base",
            "overflow": null,
            "_model_module_version": "1.2.0",
            "_view_count": null,
            "flex_flow": null,
            "width": null,
            "min_width": null,
            "border": null,
            "align_items": null,
            "bottom": null,
            "_model_module": "@jupyter-widgets/base",
            "top": null,
            "grid_column": null,
            "overflow_y": null,
            "overflow_x": null,
            "grid_auto_flow": null,
            "grid_area": null,
            "grid_template_columns": null,
            "flex": null,
            "_model_name": "LayoutModel",
            "justify_items": null,
            "grid_row": null,
            "max_height": null,
            "align_content": null,
            "visibility": null,
            "align_self": null,
            "height": null,
            "min_height": null,
            "padding": null,
            "grid_auto_rows": null,
            "grid_gap": null,
            "max_width": null,
            "order": null,
            "_view_module_version": "1.2.0",
            "grid_template_areas": null,
            "object_position": null,
            "object_fit": null,
            "grid_auto_columns": null,
            "margin": null,
            "display": null,
            "left": null
          }
        },
        "1185fdf84cf04a448438a578286200ac": {
          "model_module": "@jupyter-widgets/controls",
          "model_name": "FloatProgressModel",
          "state": {
            "_view_name": "ProgressView",
            "style": "IPY_MODEL_c9f6794c8d6f413194c3cb8c4da2d3e9",
            "_dom_classes": [],
            "description": "Downloading: 100%",
            "_model_name": "FloatProgressModel",
            "bar_style": "success",
            "max": 286907,
            "_view_module": "@jupyter-widgets/controls",
            "_model_module_version": "1.5.0",
            "value": 286907,
            "_view_count": null,
            "_view_module_version": "1.5.0",
            "orientation": "horizontal",
            "min": 0,
            "description_tooltip": null,
            "_model_module": "@jupyter-widgets/controls",
            "layout": "IPY_MODEL_307ecc4904394026abd7d2bf9515096e"
          }
        },
        "2ffb92cdb5eb481ca2bf7b8c220ad877": {
          "model_module": "@jupyter-widgets/controls",
          "model_name": "HTMLModel",
          "state": {
            "_view_name": "HTMLView",
            "style": "IPY_MODEL_52bdbc0227fe4cc98b4d8593e8f6314c",
            "_dom_classes": [],
            "description": "",
            "_model_name": "HTMLModel",
            "placeholder": "​",
            "_view_module": "@jupyter-widgets/controls",
            "_model_module_version": "1.5.0",
            "value": " 287k/287k [00:00&lt;00:00, 1.05MB/s]",
            "_view_count": null,
            "_view_module_version": "1.5.0",
            "description_tooltip": null,
            "_model_module": "@jupyter-widgets/controls",
            "layout": "IPY_MODEL_4f46df9a9db549178ed492787a88d673"
          }
        },
        "c9f6794c8d6f413194c3cb8c4da2d3e9": {
          "model_module": "@jupyter-widgets/controls",
          "model_name": "ProgressStyleModel",
          "state": {
            "_view_name": "StyleView",
            "_model_name": "ProgressStyleModel",
            "description_width": "initial",
            "_view_module": "@jupyter-widgets/base",
            "_model_module_version": "1.5.0",
            "_view_count": null,
            "_view_module_version": "1.2.0",
            "bar_color": null,
            "_model_module": "@jupyter-widgets/controls"
          }
        },
        "307ecc4904394026abd7d2bf9515096e": {
          "model_module": "@jupyter-widgets/base",
          "model_name": "LayoutModel",
          "state": {
            "_view_name": "LayoutView",
            "grid_template_rows": null,
            "right": null,
            "justify_content": null,
            "_view_module": "@jupyter-widgets/base",
            "overflow": null,
            "_model_module_version": "1.2.0",
            "_view_count": null,
            "flex_flow": null,
            "width": null,
            "min_width": null,
            "border": null,
            "align_items": null,
            "bottom": null,
            "_model_module": "@jupyter-widgets/base",
            "top": null,
            "grid_column": null,
            "overflow_y": null,
            "overflow_x": null,
            "grid_auto_flow": null,
            "grid_area": null,
            "grid_template_columns": null,
            "flex": null,
            "_model_name": "LayoutModel",
            "justify_items": null,
            "grid_row": null,
            "max_height": null,
            "align_content": null,
            "visibility": null,
            "align_self": null,
            "height": null,
            "min_height": null,
            "padding": null,
            "grid_auto_rows": null,
            "grid_gap": null,
            "max_width": null,
            "order": null,
            "_view_module_version": "1.2.0",
            "grid_template_areas": null,
            "object_position": null,
            "object_fit": null,
            "grid_auto_columns": null,
            "margin": null,
            "display": null,
            "left": null
          }
        },
        "52bdbc0227fe4cc98b4d8593e8f6314c": {
          "model_module": "@jupyter-widgets/controls",
          "model_name": "DescriptionStyleModel",
          "state": {
            "_view_name": "StyleView",
            "_model_name": "DescriptionStyleModel",
            "description_width": "",
            "_view_module": "@jupyter-widgets/base",
            "_model_module_version": "1.5.0",
            "_view_count": null,
            "_view_module_version": "1.2.0",
            "_model_module": "@jupyter-widgets/controls"
          }
        },
        "4f46df9a9db549178ed492787a88d673": {
          "model_module": "@jupyter-widgets/base",
          "model_name": "LayoutModel",
          "state": {
            "_view_name": "LayoutView",
            "grid_template_rows": null,
            "right": null,
            "justify_content": null,
            "_view_module": "@jupyter-widgets/base",
            "overflow": null,
            "_model_module_version": "1.2.0",
            "_view_count": null,
            "flex_flow": null,
            "width": null,
            "min_width": null,
            "border": null,
            "align_items": null,
            "bottom": null,
            "_model_module": "@jupyter-widgets/base",
            "top": null,
            "grid_column": null,
            "overflow_y": null,
            "overflow_x": null,
            "grid_auto_flow": null,
            "grid_area": null,
            "grid_template_columns": null,
            "flex": null,
            "_model_name": "LayoutModel",
            "justify_items": null,
            "grid_row": null,
            "max_height": null,
            "align_content": null,
            "visibility": null,
            "align_self": null,
            "height": null,
            "min_height": null,
            "padding": null,
            "grid_auto_rows": null,
            "grid_gap": null,
            "max_width": null,
            "order": null,
            "_view_module_version": "1.2.0",
            "grid_template_areas": null,
            "object_position": null,
            "object_fit": null,
            "grid_auto_columns": null,
            "margin": null,
            "display": null,
            "left": null
          }
        },
        "ce1f1bb43aeb468dbe65be0ca1d7a3cd": {
          "model_module": "@jupyter-widgets/controls",
          "model_name": "HBoxModel",
          "state": {
            "_view_name": "HBoxView",
            "_dom_classes": [],
            "_model_name": "HBoxModel",
            "_view_module": "@jupyter-widgets/controls",
            "_model_module_version": "1.5.0",
            "_view_count": null,
            "_view_module_version": "1.5.0",
            "box_style": "",
            "layout": "IPY_MODEL_b7573ea5aae643dc93cee552d2176ba1",
            "_model_module": "@jupyter-widgets/controls",
            "children": [
              "IPY_MODEL_974feff7062c4ce89eafac19b95d84a3",
              "IPY_MODEL_79cd091fa5584e1ea2f34d9d63f95768"
            ]
          }
        },
        "b7573ea5aae643dc93cee552d2176ba1": {
          "model_module": "@jupyter-widgets/base",
          "model_name": "LayoutModel",
          "state": {
            "_view_name": "LayoutView",
            "grid_template_rows": null,
            "right": null,
            "justify_content": null,
            "_view_module": "@jupyter-widgets/base",
            "overflow": null,
            "_model_module_version": "1.2.0",
            "_view_count": null,
            "flex_flow": null,
            "width": null,
            "min_width": null,
            "border": null,
            "align_items": null,
            "bottom": null,
            "_model_module": "@jupyter-widgets/base",
            "top": null,
            "grid_column": null,
            "overflow_y": null,
            "overflow_x": null,
            "grid_auto_flow": null,
            "grid_area": null,
            "grid_template_columns": null,
            "flex": null,
            "_model_name": "LayoutModel",
            "justify_items": null,
            "grid_row": null,
            "max_height": null,
            "align_content": null,
            "visibility": null,
            "align_self": null,
            "height": null,
            "min_height": null,
            "padding": null,
            "grid_auto_rows": null,
            "grid_gap": null,
            "max_width": null,
            "order": null,
            "_view_module_version": "1.2.0",
            "grid_template_areas": null,
            "object_position": null,
            "object_fit": null,
            "grid_auto_columns": null,
            "margin": null,
            "display": null,
            "left": null
          }
        },
        "974feff7062c4ce89eafac19b95d84a3": {
          "model_module": "@jupyter-widgets/controls",
          "model_name": "FloatProgressModel",
          "state": {
            "_view_name": "ProgressView",
            "style": "IPY_MODEL_c7936307584248a98268ebcad421a703",
            "_dom_classes": [],
            "description": "Downloading: 100%",
            "_model_name": "FloatProgressModel",
            "bar_style": "success",
            "max": 90,
            "_view_module": "@jupyter-widgets/controls",
            "_model_module_version": "1.5.0",
            "value": 90,
            "_view_count": null,
            "_view_module_version": "1.5.0",
            "orientation": "horizontal",
            "min": 0,
            "description_tooltip": null,
            "_model_module": "@jupyter-widgets/controls",
            "layout": "IPY_MODEL_7075c545d19342168e9838c1616a7f24"
          }
        },
        "79cd091fa5584e1ea2f34d9d63f95768": {
          "model_module": "@jupyter-widgets/controls",
          "model_name": "HTMLModel",
          "state": {
            "_view_name": "HTMLView",
            "style": "IPY_MODEL_811cb6e9051248f9a82f0a0d07f1a85e",
            "_dom_classes": [],
            "description": "",
            "_model_name": "HTMLModel",
            "placeholder": "​",
            "_view_module": "@jupyter-widgets/controls",
            "_model_module_version": "1.5.0",
            "value": " 90.0/90.0 [00:00&lt;00:00, 591B/s]",
            "_view_count": null,
            "_view_module_version": "1.5.0",
            "description_tooltip": null,
            "_model_module": "@jupyter-widgets/controls",
            "layout": "IPY_MODEL_0b2904d5cbb94e95b5845d30aaafa5a9"
          }
        },
        "c7936307584248a98268ebcad421a703": {
          "model_module": "@jupyter-widgets/controls",
          "model_name": "ProgressStyleModel",
          "state": {
            "_view_name": "StyleView",
            "_model_name": "ProgressStyleModel",
            "description_width": "initial",
            "_view_module": "@jupyter-widgets/base",
            "_model_module_version": "1.5.0",
            "_view_count": null,
            "_view_module_version": "1.2.0",
            "bar_color": null,
            "_model_module": "@jupyter-widgets/controls"
          }
        },
        "7075c545d19342168e9838c1616a7f24": {
          "model_module": "@jupyter-widgets/base",
          "model_name": "LayoutModel",
          "state": {
            "_view_name": "LayoutView",
            "grid_template_rows": null,
            "right": null,
            "justify_content": null,
            "_view_module": "@jupyter-widgets/base",
            "overflow": null,
            "_model_module_version": "1.2.0",
            "_view_count": null,
            "flex_flow": null,
            "width": null,
            "min_width": null,
            "border": null,
            "align_items": null,
            "bottom": null,
            "_model_module": "@jupyter-widgets/base",
            "top": null,
            "grid_column": null,
            "overflow_y": null,
            "overflow_x": null,
            "grid_auto_flow": null,
            "grid_area": null,
            "grid_template_columns": null,
            "flex": null,
            "_model_name": "LayoutModel",
            "justify_items": null,
            "grid_row": null,
            "max_height": null,
            "align_content": null,
            "visibility": null,
            "align_self": null,
            "height": null,
            "min_height": null,
            "padding": null,
            "grid_auto_rows": null,
            "grid_gap": null,
            "max_width": null,
            "order": null,
            "_view_module_version": "1.2.0",
            "grid_template_areas": null,
            "object_position": null,
            "object_fit": null,
            "grid_auto_columns": null,
            "margin": null,
            "display": null,
            "left": null
          }
        },
        "811cb6e9051248f9a82f0a0d07f1a85e": {
          "model_module": "@jupyter-widgets/controls",
          "model_name": "DescriptionStyleModel",
          "state": {
            "_view_name": "StyleView",
            "_model_name": "DescriptionStyleModel",
            "description_width": "",
            "_view_module": "@jupyter-widgets/base",
            "_model_module_version": "1.5.0",
            "_view_count": null,
            "_view_module_version": "1.2.0",
            "_model_module": "@jupyter-widgets/controls"
          }
        },
        "0b2904d5cbb94e95b5845d30aaafa5a9": {
          "model_module": "@jupyter-widgets/base",
          "model_name": "LayoutModel",
          "state": {
            "_view_name": "LayoutView",
            "grid_template_rows": null,
            "right": null,
            "justify_content": null,
            "_view_module": "@jupyter-widgets/base",
            "overflow": null,
            "_model_module_version": "1.2.0",
            "_view_count": null,
            "flex_flow": null,
            "width": null,
            "min_width": null,
            "border": null,
            "align_items": null,
            "bottom": null,
            "_model_module": "@jupyter-widgets/base",
            "top": null,
            "grid_column": null,
            "overflow_y": null,
            "overflow_x": null,
            "grid_auto_flow": null,
            "grid_area": null,
            "grid_template_columns": null,
            "flex": null,
            "_model_name": "LayoutModel",
            "justify_items": null,
            "grid_row": null,
            "max_height": null,
            "align_content": null,
            "visibility": null,
            "align_self": null,
            "height": null,
            "min_height": null,
            "padding": null,
            "grid_auto_rows": null,
            "grid_gap": null,
            "max_width": null,
            "order": null,
            "_view_module_version": "1.2.0",
            "grid_template_areas": null,
            "object_position": null,
            "object_fit": null,
            "grid_auto_columns": null,
            "margin": null,
            "display": null,
            "left": null
          }
        },
        "0d0658dc1eb94d4d89f50b772e371e49": {
          "model_module": "@jupyter-widgets/controls",
          "model_name": "HBoxModel",
          "state": {
            "_view_name": "HBoxView",
            "_dom_classes": [],
            "_model_name": "HBoxModel",
            "_view_module": "@jupyter-widgets/controls",
            "_model_module_version": "1.5.0",
            "_view_count": null,
            "_view_module_version": "1.5.0",
            "box_style": "",
            "layout": "IPY_MODEL_3802a0ff450e45e294bc2011513b551c",
            "_model_module": "@jupyter-widgets/controls",
            "children": [
              "IPY_MODEL_de176c970c774ab6a897003ad37b74f3",
              "IPY_MODEL_51dd7f7d181049509d82f53605bac9af"
            ]
          }
        },
        "3802a0ff450e45e294bc2011513b551c": {
          "model_module": "@jupyter-widgets/base",
          "model_name": "LayoutModel",
          "state": {
            "_view_name": "LayoutView",
            "grid_template_rows": null,
            "right": null,
            "justify_content": null,
            "_view_module": "@jupyter-widgets/base",
            "overflow": null,
            "_model_module_version": "1.2.0",
            "_view_count": null,
            "flex_flow": null,
            "width": null,
            "min_width": null,
            "border": null,
            "align_items": null,
            "bottom": null,
            "_model_module": "@jupyter-widgets/base",
            "top": null,
            "grid_column": null,
            "overflow_y": null,
            "overflow_x": null,
            "grid_auto_flow": null,
            "grid_area": null,
            "grid_template_columns": null,
            "flex": null,
            "_model_name": "LayoutModel",
            "justify_items": null,
            "grid_row": null,
            "max_height": null,
            "align_content": null,
            "visibility": null,
            "align_self": null,
            "height": null,
            "min_height": null,
            "padding": null,
            "grid_auto_rows": null,
            "grid_gap": null,
            "max_width": null,
            "order": null,
            "_view_module_version": "1.2.0",
            "grid_template_areas": null,
            "object_position": null,
            "object_fit": null,
            "grid_auto_columns": null,
            "margin": null,
            "display": null,
            "left": null
          }
        },
        "de176c970c774ab6a897003ad37b74f3": {
          "model_module": "@jupyter-widgets/controls",
          "model_name": "FloatProgressModel",
          "state": {
            "_view_name": "ProgressView",
            "style": "IPY_MODEL_bb4ee2a7697548d6a2df4ae4ddaa3940",
            "_dom_classes": [],
            "description": "Downloading: 100%",
            "_model_name": "FloatProgressModel",
            "bar_style": "success",
            "max": 2,
            "_view_module": "@jupyter-widgets/controls",
            "_model_module_version": "1.5.0",
            "value": 2,
            "_view_count": null,
            "_view_module_version": "1.5.0",
            "orientation": "horizontal",
            "min": 0,
            "description_tooltip": null,
            "_model_module": "@jupyter-widgets/controls",
            "layout": "IPY_MODEL_b4947c4fde13446da2e712af0b896d52"
          }
        },
        "51dd7f7d181049509d82f53605bac9af": {
          "model_module": "@jupyter-widgets/controls",
          "model_name": "HTMLModel",
          "state": {
            "_view_name": "HTMLView",
            "style": "IPY_MODEL_711ca70f20304ba2a512dc0151112e37",
            "_dom_classes": [],
            "description": "",
            "_model_name": "HTMLModel",
            "placeholder": "​",
            "_view_module": "@jupyter-widgets/controls",
            "_model_module_version": "1.5.0",
            "value": " 2.00/2.00 [00:00&lt;00:00, 25.4B/s]",
            "_view_count": null,
            "_view_module_version": "1.5.0",
            "description_tooltip": null,
            "_model_module": "@jupyter-widgets/controls",
            "layout": "IPY_MODEL_cd8669382e134e31b89e4b0cddf9208d"
          }
        },
        "bb4ee2a7697548d6a2df4ae4ddaa3940": {
          "model_module": "@jupyter-widgets/controls",
          "model_name": "ProgressStyleModel",
          "state": {
            "_view_name": "StyleView",
            "_model_name": "ProgressStyleModel",
            "description_width": "initial",
            "_view_module": "@jupyter-widgets/base",
            "_model_module_version": "1.5.0",
            "_view_count": null,
            "_view_module_version": "1.2.0",
            "bar_color": null,
            "_model_module": "@jupyter-widgets/controls"
          }
        },
        "b4947c4fde13446da2e712af0b896d52": {
          "model_module": "@jupyter-widgets/base",
          "model_name": "LayoutModel",
          "state": {
            "_view_name": "LayoutView",
            "grid_template_rows": null,
            "right": null,
            "justify_content": null,
            "_view_module": "@jupyter-widgets/base",
            "overflow": null,
            "_model_module_version": "1.2.0",
            "_view_count": null,
            "flex_flow": null,
            "width": null,
            "min_width": null,
            "border": null,
            "align_items": null,
            "bottom": null,
            "_model_module": "@jupyter-widgets/base",
            "top": null,
            "grid_column": null,
            "overflow_y": null,
            "overflow_x": null,
            "grid_auto_flow": null,
            "grid_area": null,
            "grid_template_columns": null,
            "flex": null,
            "_model_name": "LayoutModel",
            "justify_items": null,
            "grid_row": null,
            "max_height": null,
            "align_content": null,
            "visibility": null,
            "align_self": null,
            "height": null,
            "min_height": null,
            "padding": null,
            "grid_auto_rows": null,
            "grid_gap": null,
            "max_width": null,
            "order": null,
            "_view_module_version": "1.2.0",
            "grid_template_areas": null,
            "object_position": null,
            "object_fit": null,
            "grid_auto_columns": null,
            "margin": null,
            "display": null,
            "left": null
          }
        },
        "711ca70f20304ba2a512dc0151112e37": {
          "model_module": "@jupyter-widgets/controls",
          "model_name": "DescriptionStyleModel",
          "state": {
            "_view_name": "StyleView",
            "_model_name": "DescriptionStyleModel",
            "description_width": "",
            "_view_module": "@jupyter-widgets/base",
            "_model_module_version": "1.5.0",
            "_view_count": null,
            "_view_module_version": "1.2.0",
            "_model_module": "@jupyter-widgets/controls"
          }
        },
        "cd8669382e134e31b89e4b0cddf9208d": {
          "model_module": "@jupyter-widgets/base",
          "model_name": "LayoutModel",
          "state": {
            "_view_name": "LayoutView",
            "grid_template_rows": null,
            "right": null,
            "justify_content": null,
            "_view_module": "@jupyter-widgets/base",
            "overflow": null,
            "_model_module_version": "1.2.0",
            "_view_count": null,
            "flex_flow": null,
            "width": null,
            "min_width": null,
            "border": null,
            "align_items": null,
            "bottom": null,
            "_model_module": "@jupyter-widgets/base",
            "top": null,
            "grid_column": null,
            "overflow_y": null,
            "overflow_x": null,
            "grid_auto_flow": null,
            "grid_area": null,
            "grid_template_columns": null,
            "flex": null,
            "_model_name": "LayoutModel",
            "justify_items": null,
            "grid_row": null,
            "max_height": null,
            "align_content": null,
            "visibility": null,
            "align_self": null,
            "height": null,
            "min_height": null,
            "padding": null,
            "grid_auto_rows": null,
            "grid_gap": null,
            "max_width": null,
            "order": null,
            "_view_module_version": "1.2.0",
            "grid_template_areas": null,
            "object_position": null,
            "object_fit": null,
            "grid_auto_columns": null,
            "margin": null,
            "display": null,
            "left": null
          }
        },
        "2af4533108d044188efc37ae56a4ee68": {
          "model_module": "@jupyter-widgets/controls",
          "model_name": "HBoxModel",
          "state": {
            "_view_name": "HBoxView",
            "_dom_classes": [],
            "_model_name": "HBoxModel",
            "_view_module": "@jupyter-widgets/controls",
            "_model_module_version": "1.5.0",
            "_view_count": null,
            "_view_module_version": "1.5.0",
            "box_style": "",
            "layout": "IPY_MODEL_c6ac1eca68f447e8b143c6b8266aa524",
            "_model_module": "@jupyter-widgets/controls",
            "children": [
              "IPY_MODEL_d76daf9f04d5470992c40cebaf346441",
              "IPY_MODEL_0c6a03eda8a641219735e8f83b4120e2"
            ]
          }
        },
        "c6ac1eca68f447e8b143c6b8266aa524": {
          "model_module": "@jupyter-widgets/base",
          "model_name": "LayoutModel",
          "state": {
            "_view_name": "LayoutView",
            "grid_template_rows": null,
            "right": null,
            "justify_content": null,
            "_view_module": "@jupyter-widgets/base",
            "overflow": null,
            "_model_module_version": "1.2.0",
            "_view_count": null,
            "flex_flow": null,
            "width": null,
            "min_width": null,
            "border": null,
            "align_items": null,
            "bottom": null,
            "_model_module": "@jupyter-widgets/base",
            "top": null,
            "grid_column": null,
            "overflow_y": null,
            "overflow_x": null,
            "grid_auto_flow": null,
            "grid_area": null,
            "grid_template_columns": null,
            "flex": null,
            "_model_name": "LayoutModel",
            "justify_items": null,
            "grid_row": null,
            "max_height": null,
            "align_content": null,
            "visibility": null,
            "align_self": null,
            "height": null,
            "min_height": null,
            "padding": null,
            "grid_auto_rows": null,
            "grid_gap": null,
            "max_width": null,
            "order": null,
            "_view_module_version": "1.2.0",
            "grid_template_areas": null,
            "object_position": null,
            "object_fit": null,
            "grid_auto_columns": null,
            "margin": null,
            "display": null,
            "left": null
          }
        },
        "d76daf9f04d5470992c40cebaf346441": {
          "model_module": "@jupyter-widgets/controls",
          "model_name": "FloatProgressModel",
          "state": {
            "_view_name": "ProgressView",
            "style": "IPY_MODEL_5d00363601744d42b372d07d0b502830",
            "_dom_classes": [],
            "description": "Downloading: 100%",
            "_model_name": "FloatProgressModel",
            "bar_style": "success",
            "max": 485894375,
            "_view_module": "@jupyter-widgets/controls",
            "_model_module_version": "1.5.0",
            "value": 485894375,
            "_view_count": null,
            "_view_module_version": "1.5.0",
            "orientation": "horizontal",
            "min": 0,
            "description_tooltip": null,
            "_model_module": "@jupyter-widgets/controls",
            "layout": "IPY_MODEL_116ca848e3f341e6b23df88504c7233c"
          }
        },
        "0c6a03eda8a641219735e8f83b4120e2": {
          "model_module": "@jupyter-widgets/controls",
          "model_name": "HTMLModel",
          "state": {
            "_view_name": "HTMLView",
            "style": "IPY_MODEL_7deb359f48b64915bbd926a3da6c19d8",
            "_dom_classes": [],
            "description": "",
            "_model_name": "HTMLModel",
            "placeholder": "​",
            "_view_module": "@jupyter-widgets/controls",
            "_model_module_version": "1.5.0",
            "value": " 486M/486M [00:10&lt;00:00, 45.6MB/s]",
            "_view_count": null,
            "_view_module_version": "1.5.0",
            "description_tooltip": null,
            "_model_module": "@jupyter-widgets/controls",
            "layout": "IPY_MODEL_12ef28077c634402935cfededc9474b6"
          }
        },
        "5d00363601744d42b372d07d0b502830": {
          "model_module": "@jupyter-widgets/controls",
          "model_name": "ProgressStyleModel",
          "state": {
            "_view_name": "StyleView",
            "_model_name": "ProgressStyleModel",
            "description_width": "initial",
            "_view_module": "@jupyter-widgets/base",
            "_model_module_version": "1.5.0",
            "_view_count": null,
            "_view_module_version": "1.2.0",
            "bar_color": null,
            "_model_module": "@jupyter-widgets/controls"
          }
        },
        "116ca848e3f341e6b23df88504c7233c": {
          "model_module": "@jupyter-widgets/base",
          "model_name": "LayoutModel",
          "state": {
            "_view_name": "LayoutView",
            "grid_template_rows": null,
            "right": null,
            "justify_content": null,
            "_view_module": "@jupyter-widgets/base",
            "overflow": null,
            "_model_module_version": "1.2.0",
            "_view_count": null,
            "flex_flow": null,
            "width": null,
            "min_width": null,
            "border": null,
            "align_items": null,
            "bottom": null,
            "_model_module": "@jupyter-widgets/base",
            "top": null,
            "grid_column": null,
            "overflow_y": null,
            "overflow_x": null,
            "grid_auto_flow": null,
            "grid_area": null,
            "grid_template_columns": null,
            "flex": null,
            "_model_name": "LayoutModel",
            "justify_items": null,
            "grid_row": null,
            "max_height": null,
            "align_content": null,
            "visibility": null,
            "align_self": null,
            "height": null,
            "min_height": null,
            "padding": null,
            "grid_auto_rows": null,
            "grid_gap": null,
            "max_width": null,
            "order": null,
            "_view_module_version": "1.2.0",
            "grid_template_areas": null,
            "object_position": null,
            "object_fit": null,
            "grid_auto_columns": null,
            "margin": null,
            "display": null,
            "left": null
          }
        },
        "7deb359f48b64915bbd926a3da6c19d8": {
          "model_module": "@jupyter-widgets/controls",
          "model_name": "DescriptionStyleModel",
          "state": {
            "_view_name": "StyleView",
            "_model_name": "DescriptionStyleModel",
            "description_width": "",
            "_view_module": "@jupyter-widgets/base",
            "_model_module_version": "1.5.0",
            "_view_count": null,
            "_view_module_version": "1.2.0",
            "_model_module": "@jupyter-widgets/controls"
          }
        },
        "12ef28077c634402935cfededc9474b6": {
          "model_module": "@jupyter-widgets/base",
          "model_name": "LayoutModel",
          "state": {
            "_view_name": "LayoutView",
            "grid_template_rows": null,
            "right": null,
            "justify_content": null,
            "_view_module": "@jupyter-widgets/base",
            "overflow": null,
            "_model_module_version": "1.2.0",
            "_view_count": null,
            "flex_flow": null,
            "width": null,
            "min_width": null,
            "border": null,
            "align_items": null,
            "bottom": null,
            "_model_module": "@jupyter-widgets/base",
            "top": null,
            "grid_column": null,
            "overflow_y": null,
            "overflow_x": null,
            "grid_auto_flow": null,
            "grid_area": null,
            "grid_template_columns": null,
            "flex": null,
            "_model_name": "LayoutModel",
            "justify_items": null,
            "grid_row": null,
            "max_height": null,
            "align_content": null,
            "visibility": null,
            "align_self": null,
            "height": null,
            "min_height": null,
            "padding": null,
            "grid_auto_rows": null,
            "grid_gap": null,
            "max_width": null,
            "order": null,
            "_view_module_version": "1.2.0",
            "grid_template_areas": null,
            "object_position": null,
            "object_fit": null,
            "grid_auto_columns": null,
            "margin": null,
            "display": null,
            "left": null
          }
        }
      }
    }
  },
  "cells": [
    {
      "cell_type": "markdown",
      "metadata": {
        "id": "wZ_UWz_d2Ou9"
      },
      "source": [
        "# 🧠 Fine-tune a pretrained GPT and generate text! 🦾\r\n"
      ]
    },
    {
      "cell_type": "code",
      "metadata": {
        "colab": {
          "base_uri": "https://localhost:8080/"
        },
        "id": "CrDootrq_jdl",
        "outputId": "a4173eb6-53b8-4533-aeb7-ce1716843fa0"
      },
      "source": [
        "#@title #**DASHBOARD**\r\n",
        "MODEL_NAME = \"GPTMovie\" #@param {type:\"string\"}\r\n",
        "\r\n",
        "#@markdown ---\r\n",
        "#@markdown ## Import settings:\r\n",
        "GITHUB_REPO_NAME = \"italian_horoscope_generator\" #@param {type:\"string\"}\r\n",
        "DATASET_NAME = \"pulpfiction.txt\" #@param {type:\"string\"}\r\n",
        "DATASET_PATH = f\"./{GITHUB_REPO_NAME}/datasets/{DATASET_NAME}\"\r\n",
        "\r\n",
        "\r\n",
        "\r\n",
        "#@markdown ---\r\n",
        "#@markdown ## Model Training settings:\r\n",
        "EPOCHS = \"10\" #@param [1, 2, 3, 5, 7, 10]\r\n",
        "EPOCHS = int(EPOCHS)\r\n",
        "PRETRAINED = \"LorenzoDeMattei/GePpeTto\" #@param [\"LorenzoDeMattei/GePpeTto\", \"altro\"]\r\n",
        "TEST_SIZE = 0.15 #@param {type:\"slider\", min:0, max:1, step:0.05}\r\n",
        "\r\n",
        "#@markdown ---\r\n",
        "#@markdown ## Generation settings:\r\n",
        "PROMPTS = \"JULES; VINCENT VEGA; JULES; VINCENT VEGA; JULES; VINCENT VEGA\" #@param {type:\"string\"}\r\n",
        "SEPARATOR = \" ;\" #@param {type:\"string\"}\r\n",
        "PROMPTS = [f\"[{p}]\" for p in PROMPTS.split(SEPARATOR)]\r\n",
        "\r\n",
        "#@markdown ---\r\n",
        "#@markdown ## Export settings:\r\n",
        "SAVE_MODEL_ON_DRIVE = True #@param {type:\"boolean\"}\r\n",
        "OUT_HOROS_FILE = \"generated.txt\"\r\n",
        "OUT_HOROS_FILE = f\"{MODEL_NAME}_generated.txt\"\r\n",
        "DRIVE_PATH = f\"/content/gdrive/My Drive/{MODEL_NAME}/\"\r\n",
        "DRIVE_MODEL_FOLDER = DRIVE_PATH + MODEL_NAME\r\n",
        "MODELS_FOLDER = f\"./{MODEL_NAME}_pretrained/\"\r\n",
        "MODEL_NAME = f\"{MODEL_NAME}_{EPOCHS}\"\r\n",
        "MODEL_ARCHIVE_PATH = DRIVE_PATH+MODEL_NAME+\".zip\"\r\n",
        "\r\n",
        "\r\n",
        "###################################à\r\n",
        "print(f\" Summary:\\n{'-'*100}\")\r\n",
        "print(f\" EPOCHS:                          {EPOCHS}\")\r\n",
        "print(f\" GitHub repository name:          {GITHUB_REPO_NAME}\")\r\n",
        "print(f\" Model Name:                      {MODEL_NAME}\")\r\n",
        "print(f\" Local folder for saved models:   {MODELS_FOLDER}\")\r\n",
        "print(f\" Drive folder for saved models:   {DRIVE_PATH}\")\r\n",
        "print(f\" Model archive file name:         {MODEL_ARCHIVE_PATH}\")\r\n",
        "print(f\" Dataset folder:                  {DATASET_PATH}\")\r\n",
        "print(f\" Prompts for generation:          {PROMPTS}\")\r\n",
        "\r\n",
        "\r\n",
        "if SAVE_MODEL_ON_DRIVE:\r\n",
        "  from google.colab import drive\r\n",
        "  drive.mount('/content/gdrive')\r\n",
        "  drive_path = DRIVE_PATH"
      ],
      "execution_count": null,
      "outputs": [
        {
          "output_type": "stream",
          "text": [
            " Summary:\n",
            "----------------------------------------------------------------------------------------------------\n",
            " EPOCHS:                          10\n",
            " GitHub repository name:          italian_horoscope_generator\n",
            " Model Name:                      GPTMovie_10\n",
            " Local folder for saved models:   ./GPTMovie_pretrained/\n",
            " Drive folder for saved models:   /content/gdrive/My Drive/GPTMovie/\n",
            " Model archive file name:         /content/gdrive/My Drive/GPTMovie/GPTMovie_10.zip\n",
            " Dataset folder:                  ./italian_horoscope_generator/datasets/pulpfiction.txt\n",
            " Prompts for generation:          ['[JULES;]', '[VINCENT]', '[VEGA;]', '[JULES;]', '[VINCENT]', '[VEGA;]', '[JULES;]', '[VINCENT]', '[VEGA]']\n",
            "Mounted at /content/gdrive\n"
          ],
          "name": "stdout"
        }
      ]
    },
    {
      "cell_type": "markdown",
      "metadata": {
        "id": "QPMbuEj_M30v"
      },
      "source": [
        "## Setup"
      ]
    },
    {
      "cell_type": "code",
      "metadata": {
        "colab": {
          "base_uri": "https://localhost:8080/",
          "referenced_widgets": [
            "09a60c85d1094509a9963b1ac6c93a01",
            "873478083eb84baaa38c96910eb3ee1d",
            "962e5229928b43c0bf7437c6e54df588",
            "967aa286cfad4dd4a6f5649ac9c6975d",
            "24860723859240b0a9641613399081e0",
            "091e34ef6b064803b8898178741ea8fa",
            "b32b4e492e91404eb1dd9cf42963efe9",
            "44b07dcbb4ff444f974ecf5e236afe48",
            "cabfea4c2b3c4d8489071c0766c45593",
            "39970806da2d49e2a192c11bd3b87a16",
            "2a1ca98863a34b55aa630c5284f49a5e",
            "118f2ef9acfc4a43a29b277b559a73b4",
            "9db03233a27f4e88be834c41712ff05d",
            "3d63f0389d2a4633b6c7670cc28f412a",
            "22c827986b4845c7ac29401fa38acbfd",
            "204deef6aef94681a7254ec3857f82c1",
            "8c99ef8062cd4114968e6c25932b0cae",
            "138411b3b4884bb0937f30a27244c327",
            "1185fdf84cf04a448438a578286200ac",
            "2ffb92cdb5eb481ca2bf7b8c220ad877",
            "c9f6794c8d6f413194c3cb8c4da2d3e9",
            "307ecc4904394026abd7d2bf9515096e",
            "52bdbc0227fe4cc98b4d8593e8f6314c",
            "4f46df9a9db549178ed492787a88d673",
            "ce1f1bb43aeb468dbe65be0ca1d7a3cd",
            "b7573ea5aae643dc93cee552d2176ba1",
            "974feff7062c4ce89eafac19b95d84a3",
            "79cd091fa5584e1ea2f34d9d63f95768",
            "c7936307584248a98268ebcad421a703",
            "7075c545d19342168e9838c1616a7f24",
            "811cb6e9051248f9a82f0a0d07f1a85e",
            "0b2904d5cbb94e95b5845d30aaafa5a9",
            "0d0658dc1eb94d4d89f50b772e371e49",
            "3802a0ff450e45e294bc2011513b551c",
            "de176c970c774ab6a897003ad37b74f3",
            "51dd7f7d181049509d82f53605bac9af",
            "bb4ee2a7697548d6a2df4ae4ddaa3940",
            "b4947c4fde13446da2e712af0b896d52",
            "711ca70f20304ba2a512dc0151112e37",
            "cd8669382e134e31b89e4b0cddf9208d",
            "2af4533108d044188efc37ae56a4ee68",
            "c6ac1eca68f447e8b143c6b8266aa524",
            "d76daf9f04d5470992c40cebaf346441",
            "0c6a03eda8a641219735e8f83b4120e2",
            "5d00363601744d42b372d07d0b502830",
            "116ca848e3f341e6b23df88504c7233c",
            "7deb359f48b64915bbd926a3da6c19d8",
            "12ef28077c634402935cfededc9474b6"
          ]
        },
        "id": "GTQyaBnmM5on",
        "outputId": "67a93e50-a4eb-47ea-a656-af62136aee83"
      },
      "source": [
        "!pip install transformers\r\n",
        "!nvidia-smi\r\n",
        "\r\n",
        "from transformers import Trainer, TrainingArguments, AutoModelWithLMHead, AutoTokenizer\r\n",
        "\r\n",
        "tokenizer = AutoTokenizer.from_pretrained(PRETRAINED)\r\n",
        "model = AutoModelWithLMHead.from_pretrained(PRETRAINED)\r\n",
        "\r\n",
        "\r\n",
        "# clone git repository\r\n",
        "import sys\r\n",
        "!git clone \"https://github.com/RiccardoCozzi96/italian_horoscope_generator\"\r\n",
        "sys.path.append(GITHUB_REPO_NAME+\"/\")\r\n"
      ],
      "execution_count": null,
      "outputs": [
        {
          "output_type": "stream",
          "text": [
            "Collecting transformers\n",
            "\u001b[?25l  Downloading https://files.pythonhosted.org/packages/88/b1/41130a228dd656a1a31ba281598a968320283f48d42782845f6ba567f00b/transformers-4.2.2-py3-none-any.whl (1.8MB)\n",
            "\u001b[K     |████████████████████████████████| 1.8MB 17.4MB/s \n",
            "\u001b[?25hRequirement already satisfied: dataclasses; python_version < \"3.7\" in /usr/local/lib/python3.6/dist-packages (from transformers) (0.8)\n",
            "Collecting tokenizers==0.9.4\n",
            "\u001b[?25l  Downloading https://files.pythonhosted.org/packages/0f/1c/e789a8b12e28be5bc1ce2156cf87cb522b379be9cadc7ad8091a4cc107c4/tokenizers-0.9.4-cp36-cp36m-manylinux2010_x86_64.whl (2.9MB)\n",
            "\u001b[K     |████████████████████████████████| 2.9MB 49.9MB/s \n",
            "\u001b[?25hRequirement already satisfied: requests in /usr/local/lib/python3.6/dist-packages (from transformers) (2.23.0)\n",
            "Collecting sacremoses\n",
            "\u001b[?25l  Downloading https://files.pythonhosted.org/packages/7d/34/09d19aff26edcc8eb2a01bed8e98f13a1537005d31e95233fd48216eed10/sacremoses-0.0.43.tar.gz (883kB)\n",
            "\u001b[K     |████████████████████████████████| 890kB 55.9MB/s \n",
            "\u001b[?25hRequirement already satisfied: filelock in /usr/local/lib/python3.6/dist-packages (from transformers) (3.0.12)\n",
            "Requirement already satisfied: tqdm>=4.27 in /usr/local/lib/python3.6/dist-packages (from transformers) (4.41.1)\n",
            "Requirement already satisfied: regex!=2019.12.17 in /usr/local/lib/python3.6/dist-packages (from transformers) (2019.12.20)\n",
            "Requirement already satisfied: importlib-metadata; python_version < \"3.8\" in /usr/local/lib/python3.6/dist-packages (from transformers) (3.4.0)\n",
            "Requirement already satisfied: packaging in /usr/local/lib/python3.6/dist-packages (from transformers) (20.8)\n",
            "Requirement already satisfied: numpy in /usr/local/lib/python3.6/dist-packages (from transformers) (1.19.5)\n",
            "Requirement already satisfied: idna<3,>=2.5 in /usr/local/lib/python3.6/dist-packages (from requests->transformers) (2.10)\n",
            "Requirement already satisfied: urllib3!=1.25.0,!=1.25.1,<1.26,>=1.21.1 in /usr/local/lib/python3.6/dist-packages (from requests->transformers) (1.24.3)\n",
            "Requirement already satisfied: certifi>=2017.4.17 in /usr/local/lib/python3.6/dist-packages (from requests->transformers) (2020.12.5)\n",
            "Requirement already satisfied: chardet<4,>=3.0.2 in /usr/local/lib/python3.6/dist-packages (from requests->transformers) (3.0.4)\n",
            "Requirement already satisfied: six in /usr/local/lib/python3.6/dist-packages (from sacremoses->transformers) (1.15.0)\n",
            "Requirement already satisfied: click in /usr/local/lib/python3.6/dist-packages (from sacremoses->transformers) (7.1.2)\n",
            "Requirement already satisfied: joblib in /usr/local/lib/python3.6/dist-packages (from sacremoses->transformers) (1.0.0)\n",
            "Requirement already satisfied: zipp>=0.5 in /usr/local/lib/python3.6/dist-packages (from importlib-metadata; python_version < \"3.8\"->transformers) (3.4.0)\n",
            "Requirement already satisfied: typing-extensions>=3.6.4; python_version < \"3.8\" in /usr/local/lib/python3.6/dist-packages (from importlib-metadata; python_version < \"3.8\"->transformers) (3.7.4.3)\n",
            "Requirement already satisfied: pyparsing>=2.0.2 in /usr/local/lib/python3.6/dist-packages (from packaging->transformers) (2.4.7)\n",
            "Building wheels for collected packages: sacremoses\n",
            "  Building wheel for sacremoses (setup.py) ... \u001b[?25l\u001b[?25hdone\n",
            "  Created wheel for sacremoses: filename=sacremoses-0.0.43-cp36-none-any.whl size=893261 sha256=3b91c8e6b5c87f80bc5d5fb24d00074642943e3d5fc6201e466f87393cd13925\n",
            "  Stored in directory: /root/.cache/pip/wheels/29/3c/fd/7ce5c3f0666dab31a50123635e6fb5e19ceb42ce38d4e58f45\n",
            "Successfully built sacremoses\n",
            "Installing collected packages: tokenizers, sacremoses, transformers\n",
            "Successfully installed sacremoses-0.0.43 tokenizers-0.9.4 transformers-4.2.2\n",
            "Mon Feb  1 00:54:43 2021       \n",
            "+-----------------------------------------------------------------------------+\n",
            "| NVIDIA-SMI 460.32.03    Driver Version: 418.67       CUDA Version: 10.1     |\n",
            "|-------------------------------+----------------------+----------------------+\n",
            "| GPU  Name        Persistence-M| Bus-Id        Disp.A | Volatile Uncorr. ECC |\n",
            "| Fan  Temp  Perf  Pwr:Usage/Cap|         Memory-Usage | GPU-Util  Compute M. |\n",
            "|                               |                      |               MIG M. |\n",
            "|===============================+======================+======================|\n",
            "|   0  Tesla T4            Off  | 00000000:00:04.0 Off |                    0 |\n",
            "| N/A   48C    P8    10W /  70W |      0MiB / 15079MiB |      0%      Default |\n",
            "|                               |                      |                 ERR! |\n",
            "+-------------------------------+----------------------+----------------------+\n",
            "                                                                               \n",
            "+-----------------------------------------------------------------------------+\n",
            "| Processes:                                                                  |\n",
            "|  GPU   GI   CI        PID   Type   Process name                  GPU Memory |\n",
            "|        ID   ID                                                   Usage      |\n",
            "|=============================================================================|\n",
            "|  No running processes found                                                 |\n",
            "+-----------------------------------------------------------------------------+\n"
          ],
          "name": "stdout"
        },
        {
          "output_type": "display_data",
          "data": {
            "application/vnd.jupyter.widget-view+json": {
              "model_id": "09a60c85d1094509a9963b1ac6c93a01",
              "version_minor": 0,
              "version_major": 2
            },
            "text/plain": [
              "HBox(children=(FloatProgress(value=0.0, description='Downloading', max=1069.0, style=ProgressStyle(description…"
            ]
          },
          "metadata": {
            "tags": []
          }
        },
        {
          "output_type": "stream",
          "text": [
            "\n"
          ],
          "name": "stdout"
        },
        {
          "output_type": "display_data",
          "data": {
            "application/vnd.jupyter.widget-view+json": {
              "model_id": "cabfea4c2b3c4d8489071c0766c45593",
              "version_minor": 0,
              "version_major": 2
            },
            "text/plain": [
              "HBox(children=(FloatProgress(value=0.0, description='Downloading', max=546781.0, style=ProgressStyle(descripti…"
            ]
          },
          "metadata": {
            "tags": []
          }
        },
        {
          "output_type": "stream",
          "text": [
            "\n"
          ],
          "name": "stdout"
        },
        {
          "output_type": "display_data",
          "data": {
            "application/vnd.jupyter.widget-view+json": {
              "model_id": "8c99ef8062cd4114968e6c25932b0cae",
              "version_minor": 0,
              "version_major": 2
            },
            "text/plain": [
              "HBox(children=(FloatProgress(value=0.0, description='Downloading', max=286907.0, style=ProgressStyle(descripti…"
            ]
          },
          "metadata": {
            "tags": []
          }
        },
        {
          "output_type": "stream",
          "text": [
            "\n"
          ],
          "name": "stdout"
        },
        {
          "output_type": "display_data",
          "data": {
            "application/vnd.jupyter.widget-view+json": {
              "model_id": "ce1f1bb43aeb468dbe65be0ca1d7a3cd",
              "version_minor": 0,
              "version_major": 2
            },
            "text/plain": [
              "HBox(children=(FloatProgress(value=0.0, description='Downloading', max=90.0, style=ProgressStyle(description_w…"
            ]
          },
          "metadata": {
            "tags": []
          }
        },
        {
          "output_type": "stream",
          "text": [
            "\n"
          ],
          "name": "stdout"
        },
        {
          "output_type": "display_data",
          "data": {
            "application/vnd.jupyter.widget-view+json": {
              "model_id": "0d0658dc1eb94d4d89f50b772e371e49",
              "version_minor": 0,
              "version_major": 2
            },
            "text/plain": [
              "HBox(children=(FloatProgress(value=0.0, description='Downloading', max=2.0, style=ProgressStyle(description_wi…"
            ]
          },
          "metadata": {
            "tags": []
          }
        },
        {
          "output_type": "stream",
          "text": [
            "\n"
          ],
          "name": "stdout"
        },
        {
          "output_type": "stream",
          "text": [
            "/usr/local/lib/python3.6/dist-packages/transformers/models/auto/modeling_auto.py:925: FutureWarning: The class `AutoModelWithLMHead` is deprecated and will be removed in a future version. Please use `AutoModelForCausalLM` for causal language models, `AutoModelForMaskedLM` for masked language models and `AutoModelForSeq2SeqLM` for encoder-decoder models.\n",
            "  FutureWarning,\n"
          ],
          "name": "stderr"
        },
        {
          "output_type": "display_data",
          "data": {
            "application/vnd.jupyter.widget-view+json": {
              "model_id": "2af4533108d044188efc37ae56a4ee68",
              "version_minor": 0,
              "version_major": 2
            },
            "text/plain": [
              "HBox(children=(FloatProgress(value=0.0, description='Downloading', max=485894375.0, style=ProgressStyle(descri…"
            ]
          },
          "metadata": {
            "tags": []
          }
        },
        {
          "output_type": "stream",
          "text": [
            "\n",
            "Cloning into 'italian_horoscope_generator'...\n",
            "remote: Enumerating objects: 58, done.\u001b[K\n",
            "remote: Counting objects: 100% (58/58), done.\u001b[K\n",
            "remote: Compressing objects: 100% (54/54), done.\u001b[K\n",
            "remote: Total 58 (delta 15), reused 0 (delta 0), pack-reused 0\u001b[K\n",
            "Unpacking objects: 100% (58/58), done.\n"
          ],
          "name": "stdout"
        }
      ]
    },
    {
      "cell_type": "markdown",
      "metadata": {
        "id": "bH1W6YrdjNSp"
      },
      "source": [
        "## Dataset preparation\n",
        "\n"
      ]
    },
    {
      "cell_type": "markdown",
      "metadata": {
        "id": "hnKaUgK11NMY"
      },
      "source": [
        "Dataset loading\r\n",
        ">Note: the dataset is required to be in a simple .txt file in this form: \r\n",
        "> ```\r\n",
        "[prompt 1] Sequence 1 ...\r\n",
        "[prompt 2] Sequence 2 ...\r\n",
        "...\r\n",
        "```\r\n",
        "*(with the prompt text between square brackets)*"
      ]
    },
    {
      "cell_type": "code",
      "metadata": {
        "colab": {
          "base_uri": "https://localhost:8080/"
        },
        "id": "V36gOIOfLHvB",
        "outputId": "41e1c550-7498-46a4-f6e0-926a9535405e"
      },
      "source": [
        "import json\n",
        "from sklearn.model_selection import train_test_split\n",
        "import pandas as pd\n",
        "\n",
        "with open(DATASET_PATH) as f: \n",
        "  horoscopes = f.readlines()\n",
        "\n",
        "print(\"Dataset sample: \")\n",
        "for row in horoscopes[:5]:\n",
        "  print(row)"
      ],
      "execution_count": null,
      "outputs": [
        {
          "output_type": "stream",
          "text": [
            "Dataset sample: \n",
            "[RINGO] No, è troppo rischioso. Ho chiuso con queste stronzate.\n",
            "\n",
            "[YOLANDA] Dici sempre così, ogni volta la stessa storia: \"Ho chiuso, mai più, è troppo pericoloso...\".\n",
            "\n",
            "[RINGO] Lo so che lo dico sempre, ho anche ragione.\n",
            "\n",
            "[YOLANDA] Ma tendi a dimenticartene dopo un giorno o due.\n",
            "\n",
            "[RINGO] Ma i giorni in cui dimentico sono finiti. Stanno per cominciare i giorni in cui ricordo.\n",
            "\n"
          ],
          "name": "stdout"
        }
      ]
    },
    {
      "cell_type": "markdown",
      "metadata": {
        "id": "fkA194Of3C2P"
      },
      "source": [
        "Train / Test split"
      ]
    },
    {
      "cell_type": "code",
      "metadata": {
        "colab": {
          "base_uri": "https://localhost:8080/"
        },
        "id": "fTxdA3Ip3Eps",
        "outputId": "ebd74ead-223f-4a01-afb7-57a6ba51c8d8"
      },
      "source": [
        "train, test = train_test_split(horoscopes, test_size=TEST_SIZE)\r\n",
        "train_path = \"train.txt\"\r\n",
        "test_path = \"test.txt\"\r\n",
        "\r\n",
        "print(\"Train dataset length: \"+str(len(train)))\r\n",
        "print(\"Test dataset length: \"+ str(len(test)))\r\n",
        "print(\"\\nTrain sample:\\n\", train[0])\r\n",
        "print(\"\\nTest sample:\\n\", test[0])\r\n",
        "\r\n",
        "with open(train_path, \"w\") as train_file:\r\n",
        "  train_file.writelines(train)\r\n",
        "with open(test_path, \"w\") as test_file:\r\n",
        "  test_file.writelines(test)"
      ],
      "execution_count": null,
      "outputs": [
        {
          "output_type": "stream",
          "text": [
            "Train dataset length: 1138\n",
            "Test dataset length: 201\n",
            "\n",
            "Train sample:\n",
            " [BUTCH] Beh, dovresti essere contenta, perché ce l'hai.\n",
            "\n",
            "\n",
            "Test sample:\n",
            " [JULES] Porca troia, è gelata!\n",
            "\n"
          ],
          "name": "stdout"
        }
      ]
    },
    {
      "cell_type": "markdown",
      "metadata": {
        "id": "DqA5Ri622uKN"
      },
      "source": [
        "Creating TextDataset"
      ]
    },
    {
      "cell_type": "code",
      "metadata": {
        "colab": {
          "base_uri": "https://localhost:8080/"
        },
        "id": "m9lHS0mIMak4",
        "outputId": "7a9021e2-8272-46ee-fb17-a031cfa97365"
      },
      "source": [
        "from transformers import TextDataset, DataCollatorForLanguageModeling\n",
        "\n",
        "def load_dataset(train_path,test_path,tokenizer):\n",
        "    train_dataset = TextDataset(\n",
        "          tokenizer=tokenizer,\n",
        "          file_path=train_path,\n",
        "          block_size=128)\n",
        "     \n",
        "    test_dataset = TextDataset(\n",
        "          tokenizer=tokenizer,\n",
        "          file_path=test_path,\n",
        "          block_size=128)   \n",
        "    \n",
        "    data_collator = DataCollatorForLanguageModeling(\n",
        "        tokenizer=tokenizer, mlm=False,\n",
        "    )\n",
        "    return train_dataset,test_dataset,data_collator\n",
        "\n",
        "train_dataset, test_dataset ,data_collator = load_dataset(train_path, test_path, tokenizer)"
      ],
      "execution_count": null,
      "outputs": [
        {
          "output_type": "stream",
          "text": [
            "/usr/local/lib/python3.6/dist-packages/transformers/data/datasets/language_modeling.py:58: FutureWarning: This dataset will be removed from the library soon, preprocessing should be handled with the 🤗 Datasets library. You can have a look at this example script for pointers: https://github.com/huggingface/transformers/blob/master/examples/language-modeling/run_mlm.py\n",
            "  FutureWarning,\n"
          ],
          "name": "stderr"
        }
      ]
    },
    {
      "cell_type": "markdown",
      "metadata": {
        "id": "ThG6jwL7qET8"
      },
      "source": [
        "## Initialize `Trainer` with `TrainingArguments` and GPT-2 model"
      ]
    },
    {
      "cell_type": "markdown",
      "metadata": {
        "id": "WOyQggOw3OXE"
      },
      "source": [
        "The [Trainer](https://huggingface.co/transformers/main_classes/trainer.html#transformers.Trainer) class provides an API for feature-complete training. It is used in most of the [example scripts](https://huggingface.co/transformers/examples.html) from Huggingface. Before we can instantiate our `Trainer` we need to download our GPT-2 model and create a [TrainingArguments](https://huggingface.co/transformers/main_classes/trainer.html#transformers.TrainingArguments) to access all the points of customization during training. In the `TrainingArguments`, we can define the Hyperparameters we are going to use in the training process like our `learning_rate`, `num_train_epochs`, or  `per_device_train_batch_size`. A complete list can you find [here](https://huggingface.co/transformers/main_classes/trainer.html#trainingarguments)."
      ]
    },
    {
      "cell_type": "code",
      "metadata": {
        "id": "H7hhmbT2ModI"
      },
      "source": [
        "\n",
        "training_args = TrainingArguments(\n",
        "    output_dir = MODEL_NAME, # The output directory\n",
        "    overwrite_output_dir=True, # overwrite the content of the output directory\n",
        "    num_train_epochs = EPOCHS, # number of training epochs\n",
        "    per_device_train_batch_size = 32, # batch size for training\n",
        "    per_device_eval_batch_size = 64,  # batch size for evaluation\n",
        "    eval_steps = 400, # Number of update steps between two evaluations.\n",
        "    save_steps = 800, # after # steps model is saved \n",
        "    warmup_steps = 500,# number of warmup steps for learning rate scheduler\n",
        "    )\n",
        "\n",
        "trainer = Trainer(\n",
        "    model=model,\n",
        "    args=training_args,\n",
        "    data_collator=data_collator,\n",
        "    train_dataset=train_dataset,\n",
        "    eval_dataset=test_dataset,\n",
        "    #prediction_loss_only=True,\n",
        ")"
      ],
      "execution_count": null,
      "outputs": []
    },
    {
      "cell_type": "markdown",
      "metadata": {
        "id": "ZyQh0jlTqR6-"
      },
      "source": [
        "## Training"
      ]
    },
    {
      "cell_type": "code",
      "metadata": {
        "colab": {
          "base_uri": "https://localhost:8080/",
          "height": 112
        },
        "id": "wjIzSWPTKzBf",
        "outputId": "2915b365-06cb-460d-96b5-fbcb00334e5c"
      },
      "source": [
        "trainer.train()"
      ],
      "execution_count": null,
      "outputs": [
        {
          "output_type": "display_data",
          "data": {
            "text/html": [
              "\n",
              "    <div>\n",
              "        <style>\n",
              "            /* Turns off some styling */\n",
              "            progress {\n",
              "                /* gets rid of default border in Firefox and Opera. */\n",
              "                border: none;\n",
              "                /* Needs to be in here for Safari polyfill so background images work as expected. */\n",
              "                background-size: auto;\n",
              "            }\n",
              "        </style>\n",
              "      \n",
              "      <progress value='70' max='70' style='width:300px; height:20px; vertical-align: middle;'></progress>\n",
              "      [70/70 01:05, Epoch 10/10]\n",
              "    </div>\n",
              "    <table border=\"1\" class=\"dataframe\">\n",
              "  <thead>\n",
              "    <tr style=\"text-align: left;\">\n",
              "      <th>Step</th>\n",
              "      <th>Training Loss</th>\n",
              "    </tr>\n",
              "  </thead>\n",
              "  <tbody>\n",
              "  </tbody>\n",
              "</table><p>"
            ],
            "text/plain": [
              "<IPython.core.display.HTML object>"
            ]
          },
          "metadata": {
            "tags": []
          }
        },
        {
          "output_type": "execute_result",
          "data": {
            "text/plain": [
              "TrainOutput(global_step=70, training_loss=3.8287471226283483, metrics={'train_runtime': 67.0344, 'train_samples_per_second': 1.044, 'total_flos': 183967757107200, 'epoch': 10.0})"
            ]
          },
          "metadata": {
            "tags": []
          },
          "execution_count": 7
        }
      ]
    },
    {
      "cell_type": "markdown",
      "metadata": {
        "id": "bhhJSiMXRTZx"
      },
      "source": [
        "##Saving the model"
      ]
    },
    {
      "cell_type": "markdown",
      "metadata": {
        "id": "7pm-m0HU3W5E"
      },
      "source": [
        "After training is done you can save the model by calling `save_model()`. This will save the trained model to our `output_dir` from our `TrainingArguments`."
      ]
    },
    {
      "cell_type": "code",
      "metadata": {
        "id": "Q5quyGeMNdjE"
      },
      "source": [
        "trainer.save_model()"
      ],
      "execution_count": null,
      "outputs": []
    },
    {
      "cell_type": "code",
      "metadata": {
        "colab": {
          "base_uri": "https://localhost:8080/"
        },
        "id": "5kc0AcW43Pe6",
        "outputId": "a38a6190-a31a-4b94-adbd-5f7ba1825bd6"
      },
      "source": [
        "import os\r\n",
        "import shutil\r\n",
        "\r\n",
        "# zip the model folder\r\n",
        "print(\"Creating archive...\", end=\" \")\r\n",
        "shutil.make_archive(MODEL_NAME, 'zip', MODEL_NAME)\r\n",
        "print(\"done: \", MODEL_NAME+\".zip\")\r\n",
        "\r\n",
        "# save on Google Drive\r\n",
        "if SAVE_MODEL_ON_DRIVE:\r\n",
        "  \r\n",
        "  if not os.path.exists(drive_path):\r\n",
        "    os.makedirs(drive_path)\r\n",
        "    print(\"path created on drive: \", drive_path)\r\n",
        "  else:\r\n",
        "    print(\"path already existing: \", drive_path)\r\n",
        "  \r\n",
        "  print(\"Saving archive on drive...\", end=\"\")\r\n",
        "  shutil.copy(f\"./{MODEL_NAME}.zip\", f\"{drive_path}{MODEL_NAME}.zip\")\r\n",
        "  print(\"done.\")"
      ],
      "execution_count": null,
      "outputs": [
        {
          "output_type": "stream",
          "text": [
            "Creating archive... done:  GPTMovie_10.zip\n",
            "path already existing:  /content/gdrive/My Drive/GPTMovie/\n",
            "Saving archive on drive...done.\n"
          ],
          "name": "stdout"
        }
      ]
    },
    {
      "cell_type": "markdown",
      "metadata": {
        "id": "PGEiQ1mhOyNv"
      },
      "source": [
        "## Text Generation\n",
        "\n"
      ]
    },
    {
      "cell_type": "markdown",
      "metadata": {
        "id": "L0_rVdvM45_K"
      },
      "source": [
        "To test the model we are going to use another [highlight of the transformers library](https://huggingface.co/transformers/main_classes/pipelines.html?highlight=pipelines) called `pipeline`. [Pipelines](https://huggingface.co/transformers/main_classes/pipelines.html?highlight=pipelines) are objects that offer a simple API dedicated to several tasks, among others also `text-generation`"
      ]
    },
    {
      "cell_type": "code",
      "metadata": {
        "id": "O4ucaNzXmYTF"
      },
      "source": [
        "def clean(text):\r\n",
        "  a = text[:text.find(\"]\")+1]\r\n",
        "  b = text[text.find(\"]\"):]\r\n",
        "  c = b[:b.find(\"[\")].replace(\"]\", \"\")\r\n",
        "  c = c.replace(\"\\n\", \" \").strip()\r\n",
        "  return (a[1:-1], c)\r\n",
        "\r\n",
        "def format(sign_body):\r\n",
        "  sign, body = sign_body\r\n",
        "  return f\"\\n[{sign}]\\n{body}\\n\""
      ],
      "execution_count": null,
      "outputs": []
    },
    {
      "cell_type": "code",
      "metadata": {
        "id": "Fh4Q1BR0OtDo"
      },
      "source": [
        "from transformers import pipeline\n",
        "text_generator = pipeline('text-generation', model=MODEL_NAME, tokenizer=tokenizer, config={'max_length':800})"
      ],
      "execution_count": null,
      "outputs": []
    },
    {
      "cell_type": "code",
      "metadata": {
        "id": "1PkEi__urqm1"
      },
      "source": [
        "samples_outputs = text_generator(\r\n",
        "    PROMPTS,\r\n",
        "    do_sample=True,\r\n",
        "    max_length=500,\r\n",
        "    top_k=50,\r\n",
        "    top_p=0.95,\r\n",
        "    num_return_sequences=1\r\n",
        ")"
      ],
      "execution_count": null,
      "outputs": []
    },
    {
      "cell_type": "code",
      "metadata": {
        "colab": {
          "base_uri": "https://localhost:8080/"
        },
        "id": "inZo0gVd9TK8",
        "outputId": "3eb1ac7a-ef05-4390-b09f-afa25a18a4ea"
      },
      "source": [
        "# save cleaned texts\r\n",
        "outputs = []\r\n",
        "for prompt, sample in zip(PROMPTS, samples_outputs):\r\n",
        "  text = clean(sample[0][\"generated_text\"].replace(\"\\n\", \" \"))\r\n",
        "  line = f\"{prompt} {text[1]}\"\r\n",
        "  outputs.append(line)"
      ],
      "execution_count": null,
      "outputs": [
        {
          "output_type": "stream",
          "text": [
            "[JULES;] Ma di che hai paura di questa mia stupidità?\n",
            "[VINCENT] Non voglio che questo paese diventi troppo \"retta da dio\"!\n",
            "[VEGA;] Tu hai portato un'altra volta in America? Ti sei stufato? Non ti sembra di no!\n",
            "[JULES;] Buffy e l'inferno. WILLIAMS\n",
            "[VINCENT] Se hai in mente di farti un pensierino, lo fai solo tu! Lo fanno per una settimana.\n",
            "[VEGA;] Ma chi vi porterà a casa?\n",
            "[JULES;] Non voglio fare del male, ma non voglio farti del male.\n",
            "[VINCENT] Sì, sono qui dentro.\"\n",
            "[VEGA] Azz..ma non è un cazzo che pensi...pure questo sarebbe un buon libro.  Links http://www.ilgazzettino.it/main.php3?Luogo=Rovigo&Data=2005-7-30&Pagina=SANGO Le nuove regole di sicurezza per i siti di scambio e lo scambio di merci tra Stati Uniti e Italia: un nuovo modo per combattere le crisi dei missili a testata nucleare. L'Enea, infatti, lancia l'allarme nucleare e si è detto sorpreso che le industrie statunitensi hanno chiuso tutte le porte della catena di navigazione. Eni a San Pietroburgo, e, ma, alla fine dell'autunno, le scorte petroliere non hanno perso la bocca di petrolio e lo stesso. Connesie e lo stesso petrolio, nel campo in un solo negli ultimi due giorni. Indonesia, è sempre. La produzione per un solo con gli stessi posti. Il sole che è tornato è diventato da buttare. Gli Usa. «ponte. L'oceano che ha fatto. Ora. Il mercato. Sion e l'ocation. Sono andato. Un pozzetto. Eta». Ma è arrivato al lavoro. Il boom si vede, come è morto di benzina. Cosى, il petrolio, c'oro. L'e. E un'ha fatto, una merce. Ora, ma l'ha mai trovato una volta l'acqua. Il pesce di morte si è morto.                   Il vento.   «Parmadio, una volta lo si trova.\n"
          ],
          "name": "stdout"
        }
      ]
    },
    {
      "cell_type": "markdown",
      "metadata": {
        "id": "rck4Te2jFv2_"
      },
      "source": [
        "## View results"
      ]
    },
    {
      "cell_type": "code",
      "metadata": {
        "colab": {
          "base_uri": "https://localhost:8080/"
        },
        "id": "uaxTTsBQF5da",
        "outputId": "cae66a74-a298-4fb1-e53c-b3a0fef9f60c"
      },
      "source": [
        "for output in outputs:\r\n",
        "  print(\"> \", output)"
      ],
      "execution_count": null,
      "outputs": [
        {
          "output_type": "stream",
          "text": [
            ">  [JULES;] Ma di che hai paura di questa mia stupidità?\n",
            ">  [VINCENT] Non voglio che questo paese diventi troppo \"retta da dio\"!\n",
            ">  [VEGA;] Tu hai portato un'altra volta in America? Ti sei stufato? Non ti sembra di no!\n",
            ">  [JULES;] Buffy e l'inferno. WILLIAMS\n",
            ">  [VINCENT] Se hai in mente di farti un pensierino, lo fai solo tu! Lo fanno per una settimana.\n",
            ">  [VEGA;] Ma chi vi porterà a casa?\n",
            ">  [JULES;] Non voglio fare del male, ma non voglio farti del male.\n",
            ">  [VINCENT] Sì, sono qui dentro.\"\n",
            ">  [VEGA] Azz..ma non è un cazzo che pensi...pure questo sarebbe un buon libro.  Links http://www.ilgazzettino.it/main.php3?Luogo=Rovigo&Data=2005-7-30&Pagina=SANGO Le nuove regole di sicurezza per i siti di scambio e lo scambio di merci tra Stati Uniti e Italia: un nuovo modo per combattere le crisi dei missili a testata nucleare. L'Enea, infatti, lancia l'allarme nucleare e si è detto sorpreso che le industrie statunitensi hanno chiuso tutte le porte della catena di navigazione. Eni a San Pietroburgo, e, ma, alla fine dell'autunno, le scorte petroliere non hanno perso la bocca di petrolio e lo stesso. Connesie e lo stesso petrolio, nel campo in un solo negli ultimi due giorni. Indonesia, è sempre. La produzione per un solo con gli stessi posti. Il sole che è tornato è diventato da buttare. Gli Usa. «ponte. L'oceano che ha fatto. Ora. Il mercato. Sion e l'ocation. Sono andato. Un pozzetto. Eta». Ma è arrivato al lavoro. Il boom si vede, come è morto di benzina. Cosى, il petrolio, c'oro. L'e. E un'ha fatto, una merce. Ora, ma l'ha mai trovato una volta l'acqua. Il pesce di morte si è morto.                   Il vento.   «Parmadio, una volta lo si trova.\n"
          ],
          "name": "stdout"
        }
      ]
    },
    {
      "cell_type": "markdown",
      "metadata": {
        "id": "5h8fpVHi9uq4"
      },
      "source": [
        "## Saving outputs"
      ]
    },
    {
      "cell_type": "code",
      "metadata": {
        "colab": {
          "base_uri": "https://localhost:8080/"
        },
        "id": "c2NJpTsP3rNz",
        "outputId": "f4c20cc7-5a0e-4516-ff97-0a6036c7060d"
      },
      "source": [
        "with open(OUT_HOROS_FILE, \"w\") as out:\r\n",
        "  out.writelines(outputs)\r\n",
        "\r\n",
        "shutil.copy(OUT_HOROS_FILE, \"/content/gdrive/My Drive/GPTFox\")"
      ],
      "execution_count": null,
      "outputs": [
        {
          "output_type": "execute_result",
          "data": {
            "application/vnd.google.colaboratory.intrinsic+json": {
              "type": "string"
            },
            "text/plain": [
              "'/content/gdrive/My Drive/GPTFox/GPTMovie_generated.txt'"
            ]
          },
          "metadata": {
            "tags": []
          },
          "execution_count": 14
        }
      ]
    },
    {
      "cell_type": "markdown",
      "metadata": {
        "id": "hx9GYpsA9wNu"
      },
      "source": [
        "## Evaluation"
      ]
    },
    {
      "cell_type": "code",
      "metadata": {
        "colab": {
          "base_uri": "https://localhost:8080/"
        },
        "id": "6ZoYgPe07dbt",
        "outputId": "2d90feab-e797-449a-92f5-f9cb9af4a50a"
      },
      "source": [
        "sample = samples_outputs[0][0][\"generated_text\"][:240]\r\n",
        "print(\"SAMPLE: \", sample)\r\n",
        "\r\n",
        "with open(\"train.txt\") as f:\r\n",
        "  GT = f.read()\r\n",
        "\r\n",
        "\r\n",
        "def find_substr(string, text, print_window=False, window_size=30):\r\n",
        "  if string in text:\r\n",
        "    position = text.find(string)\r\n",
        "    if print_window: \r\n",
        "      window = text[ position-window_size : position+len(string)+window_size ]\r\n",
        "      window = window.replace(string, string.upper())\r\n",
        "      print(window)\r\n",
        "    return True\r\n",
        "  else:\r\n",
        "    return False\r\n",
        "\r\n",
        "\r\n",
        "def get_all_ngrams(string, n):\r\n",
        "  ngrams = []\r\n",
        "  string_len = len(string.split(\" \"))\r\n",
        "  for i in range(0, string_len-n+1, 1):\r\n",
        "    ngram = \" \".join(string.split(\" \")[i:i+n])\r\n",
        "    ngrams.append(ngram.strip())\r\n",
        "  return ngrams\r\n",
        "\r\n",
        "\r\n",
        "def count_ngram_plagiarism(string, text, n_values, verbose=False):\r\n",
        "  ngram_plagiarism = { n:0 for n in n_values }\r\n",
        "  for n in n_values[::-1]: # read backward\r\n",
        "    for i, ngram in enumerate(get_all_ngrams(string, n)):\r\n",
        "      found = find_substr(ngram, text)\r\n",
        "      if verbose: print(f\"[{i}-{i+n}]\\t{found}\\t{ngram}\")\r\n",
        "      if found: ngram_plagiarism[n] += 1\r\n",
        "    \r\n",
        "\r\n",
        "  return ngram_plagiarism\r\n",
        "\r\n",
        "\r\n",
        "def plagiarism_score(plagiarism):\r\n",
        "  positive_plag = [n for n in list(plagiarism.keys()) if plagiarism[n] != 0]\r\n",
        "  if positive_plag == []: \r\n",
        "    return 0\r\n",
        "\r\n",
        "  n_max = max(positive_plag)\r\n",
        "  score = 1 / (n_max * plagiarism[n_max])\r\n",
        "  return round(score, 3)\r\n",
        "\r\n",
        "\r\n",
        "#find_substr(\"qualche difficoltà a rapportarvi con\", ground_truth, print_window=True)\r\n",
        "plag_test = count_ngram_plagiarism(sample, GT, [5,6,7,8,9])\r\n",
        "print(plag_test, plagiarism_score(plag_test))"
      ],
      "execution_count": null,
      "outputs": [
        {
          "output_type": "stream",
          "text": [
            "SAMPLE:  [JULES;] Ma di che hai paura di questa mia stupidità?\n",
            "[MIA] Mi chiamo Flora!\n",
            "[JULES] Ma di che sei fiero?\n",
            "[BUTCH] Ah, no, ma come, Flora!\n",
            "[VINCENT] Oh, sì, ma non sono il figlio del fratello.\n",
            "[JULES] Come sarebbe diventato grande il tuo mat\n",
            "{5: 0, 6: 0, 7: 0, 8: 0, 9: 0} 0\n"
          ],
          "name": "stdout"
        }
      ]
    },
    {
      "cell_type": "code",
      "metadata": {
        "colab": {
          "base_uri": "https://localhost:8080/"
        },
        "id": "5K6KzndkHPYn",
        "outputId": "8d824213-e806-44f6-ff43-11dc57d5fe83"
      },
      "source": [
        "for oroscopo in outputs:\r\n",
        "  plagi = count_ngram_plagiarism(oroscopo, GT, [5, 6, 7, 8, 9, 10], verbose=False)\r\n",
        "  print(\"\\n\", plagiarism_score(plagi), \"\\t\", oroscopo)"
      ],
      "execution_count": null,
      "outputs": [
        {
          "output_type": "stream",
          "text": [
            "\n",
            " 0 \t [JULES;] Ma di che hai paura di questa mia stupidità?\n",
            "\n",
            " 0 \t [VINCENT] Non voglio che questo paese diventi troppo \"retta da dio\"!\n",
            "\n",
            " 0 \t [VEGA;] Tu hai portato un'altra volta in America? Ti sei stufato? Non ti sembra di no!\n",
            "\n",
            " 0 \t [JULES;] Buffy e l'inferno. WILLIAMS\n",
            "\n",
            " 0 \t [VINCENT] Se hai in mente di farti un pensierino, lo fai solo tu! Lo fanno per una settimana.\n",
            "\n",
            " 0 \t [VEGA;] Ma chi vi porterà a casa?\n",
            "\n",
            " 0 \t [JULES;] Non voglio fare del male, ma non voglio farti del male.\n",
            "\n",
            " 0 \t [VINCENT] Sì, sono qui dentro.\"\n",
            "\n",
            " 0.008 \t [VEGA] Azz..ma non è un cazzo che pensi...pure questo sarebbe un buon libro.  Links http://www.ilgazzettino.it/main.php3?Luogo=Rovigo&Data=2005-7-30&Pagina=SANGO Le nuove regole di sicurezza per i siti di scambio e lo scambio di merci tra Stati Uniti e Italia: un nuovo modo per combattere le crisi dei missili a testata nucleare. L'Enea, infatti, lancia l'allarme nucleare e si è detto sorpreso che le industrie statunitensi hanno chiuso tutte le porte della catena di navigazione. Eni a San Pietroburgo, e, ma, alla fine dell'autunno, le scorte petroliere non hanno perso la bocca di petrolio e lo stesso. Connesie e lo stesso petrolio, nel campo in un solo negli ultimi due giorni. Indonesia, è sempre. La produzione per un solo con gli stessi posti. Il sole che è tornato è diventato da buttare. Gli Usa. «ponte. L'oceano che ha fatto. Ora. Il mercato. Sion e l'ocation. Sono andato. Un pozzetto. Eta». Ma è arrivato al lavoro. Il boom si vede, come è morto di benzina. Cosى, il petrolio, c'oro. L'e. E un'ha fatto, una merce. Ora, ma l'ha mai trovato una volta l'acqua. Il pesce di morte si è morto.                   Il vento.   «Parmadio, una volta lo si trova.\n"
          ],
          "name": "stdout"
        }
      ]
    },
    {
      "cell_type": "code",
      "metadata": {
        "colab": {
          "base_uri": "https://localhost:8080/"
        },
        "id": "av4dxEm3Cdij",
        "outputId": "a68f32bc-b65d-4d5a-dcd3-c68c19c86500"
      },
      "source": [
        "import time\r\n",
        "print(\"Terminated at\", str(time.ctime()))"
      ],
      "execution_count": null,
      "outputs": [
        {
          "output_type": "stream",
          "text": [
            "Terminated at Mon Feb  1 01:01:29 2021\n"
          ],
          "name": "stdout"
        }
      ]
    }
  ]
}